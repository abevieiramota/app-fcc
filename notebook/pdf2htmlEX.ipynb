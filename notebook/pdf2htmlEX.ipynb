{
 "cells": [
  {
   "cell_type": "code",
   "execution_count": 15,
   "metadata": {
    "collapsed": true
   },
   "outputs": [],
   "source": [
    "from bs4 import BeautifulSoup\n",
    "import re"
   ]
  },
  {
   "cell_type": "code",
   "execution_count": 34,
   "metadata": {
    "collapsed": true
   },
   "outputs": [],
   "source": [
    "ini_questao = re.compile(r'^(\\d{1,2})\\.')\n",
    "ini_item = re.compile(r'^\\(([A-E])\\)')\n",
    "end_item_E = re.compile(r'Caderno de Prova')"
   ]
  },
  {
   "cell_type": "code",
   "execution_count": 2,
   "metadata": {
    "collapsed": false
   },
   "outputs": [],
   "source": [
    "soup = BeautifulSoup(open('2016-trt-14-regiao-ro-e-ac-analista-judiciario-tecnologia-da-informacao.html'), 'html.parser')"
   ]
  },
  {
   "cell_type": "code",
   "execution_count": 25,
   "metadata": {
    "collapsed": true
   },
   "outputs": [],
   "source": [
    "divs = soup.find_all('div')"
   ]
  },
  {
   "cell_type": "code",
   "execution_count": 23,
   "metadata": {
    "collapsed": false
   },
   "outputs": [],
   "source": [
    "ini_questoes = soup.find_all(lambda tag: tag.name == 'div' and ini_questao.match(tag.get_text()))"
   ]
  },
  {
   "cell_type": "code",
   "execution_count": 65,
   "metadata": {
    "collapsed": false
   },
   "outputs": [],
   "source": [
    "divs_questoes = {}\n",
    "\n",
    "questao = None\n",
    "pos_item = False\n",
    "\n",
    "for div in soup.find_all('div'):\n",
    "    \n",
    "    is_ini_questao = ini_questao.match(div.get_text())\n",
    "    \n",
    "    if is_ini_questao:\n",
    "        \n",
    "        questao = is_ini_questao.group(1)\n",
    "        divs_questoes[questao] = []\n",
    "        pos_item = False\n",
    "        \n",
    "    if ini_item.match(div.get_text()):\n",
    "        \n",
    "        pos_item = True\n",
    "        \n",
    "    if not div.get_text().strip() and pos_item:\n",
    "        \n",
    "        questao = None\n",
    "        \n",
    "    if questao:\n",
    "        \n",
    "        divs_questoes[questao].append(div)"
   ]
  },
  {
   "cell_type": "code",
   "execution_count": 66,
   "metadata": {
    "collapsed": false
   },
   "outputs": [
    {
     "data": {
      "text/plain": [
       "60"
      ]
     },
     "execution_count": 66,
     "metadata": {},
     "output_type": "execute_result"
    }
   ],
   "source": [
    "len(divs_questoes)"
   ]
  },
  {
   "cell_type": "code",
   "execution_count": 70,
   "metadata": {
    "collapsed": false
   },
   "outputs": [
    {
     "name": "stdout",
     "output_type": "stream",
     "text": [
      "1.  Entre os graves equívocos que podem se incluir na relação entre um homem e uma mulher destaca-se, no texto,     (A)  a natural subserviência que a mulher prefere demonstrar a seu parceiro violento, em vez de confrontá-lo.  (B)  a falta da discriminação masculina entre o que seja uma demonstração de amor e uma iniciativa intimidadora.   (C)  o exagero de se avaliar como violentas algumas iniciativas masculinas tão somente carinhosas.  (D)  o fato de a moral dominante classificar como hipócrita toda e qualquer iniciativa amorosa do homem machista.  (E)  o fato de a mulher relutante tomar como amorosa a violência da sedução a que se atira seu namorado. \n"
     ]
    }
   ],
   "source": [
    "print(' '.join((div.get_text() for div in divs_questoes['1'])))"
   ]
  },
  {
   "cell_type": "code",
   "execution_count": 75,
   "metadata": {
    "collapsed": false
   },
   "outputs": [
    {
     "name": "stdout",
     "output_type": "stream",
     "text": [
      "10.  Atente para as seguintes afirmações:      I . No 1 o  parágrafo, à advertência Ledo engano segue-se a convicção de que a atração das crianças por histórias contadas  diretamente a elas não é menor do que a que sentem pelas desenvolvidas com recursos eletrônicos.      II . No 2 o  parágrafo, a expressão caloroso laço de vozes e de palavras reafirma a importância já ressaltada pela afirmação de  que a presença do narrador faz toda a diferença.      III . No 3 o  parágrafo, depreende-se que a analogia entre a narrativa oral e a arte do teatro ocorre por força de um elemento  comum: a interpretação pessoal e atualizada que se pode dar a narrativas tradicionais.      Em relação ao texto, está correto o que se afirma em    (A)  I ,  II  e  III .  (B)  I  e  II , apenas.  (C)  I  e  III , apenas.  (D)  II  e  III , apenas.  (E)  II , apenas. \n"
     ]
    }
   ],
   "source": [
    "print(' '.join((div.get_text() for div in divs_questoes['10'])))"
   ]
  },
  {
   "cell_type": "code",
   "execution_count": 76,
   "metadata": {
    "collapsed": false
   },
   "outputs": [
    {
     "name": "stdout",
     "output_type": "stream",
     "text": [
      "20.  Observe os sete primeiros termos de uma sequência numérica: 7, 13, 25, 49, 97, 193, 385, ... . Mantido o mesmo padrão da  sequência e admitindo-se que o 100 o  termo seja igual a x, então o 99 o  termo dela será igual a    (A)  1 2 x+\n"
     ]
    }
   ],
   "source": [
    "print(' '.join((div.get_text() for div in divs_questoes['20'])))"
   ]
  },
  {
   "cell_type": "code",
   "execution_count": null,
   "metadata": {
    "collapsed": true
   },
   "outputs": [],
   "source": []
  }
 ],
 "metadata": {
  "anaconda-cloud": {},
  "kernelspec": {
   "display_name": "Python [Root]",
   "language": "python",
   "name": "Python [Root]"
  },
  "language_info": {
   "codemirror_mode": {
    "name": "ipython",
    "version": 3
   },
   "file_extension": ".py",
   "mimetype": "text/x-python",
   "name": "python",
   "nbconvert_exporter": "python",
   "pygments_lexer": "ipython3",
   "version": "3.5.2"
  }
 },
 "nbformat": 4,
 "nbformat_minor": 0
}
